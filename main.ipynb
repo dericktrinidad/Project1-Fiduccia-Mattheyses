{
 "cells": [
  {
   "cell_type": "code",
   "execution_count": 50,
   "metadata": {},
   "outputs": [],
   "source": [
    "import os\n",
    "import random"
   ]
  },
  {
   "cell_type": "code",
   "execution_count": 51,
   "metadata": {},
   "outputs": [],
   "source": [
    "class gate_dlinkedList:\n",
    "    def __init__(self, gate_id):\n",
    "        self.gate_id = gate_id\n",
    "        self.lock = False\n",
    "        self.next = None\n",
    "        self.prev = None\n",
    "        self.gain = 0\n",
    "    \n",
    "    def set_next(self, next_gate):\n",
    "        self.next = next_gate\n",
    "        if next_gate:\n",
    "            next_gate.prev = self\n",
    "        return self.next\n",
    "    \n",
    "    def remove_gate(self):\n",
    "        if self.prev:\n",
    "            self.prev.next = self.next\n",
    "        if self.next:\n",
    "            self.next.prev = self.prev\n",
    "        self.next = None\n",
    "        self.prev = None\n",
    "\n",
    "    def __str__(self):\n",
    "        str_output = f'Gate ID: {self.gate_id}\\n'\n",
    "        str_output += f'Lock Status: {self.lock}\\n'\n",
    "        if self.next:\n",
    "            str_output += f'Next Gate: {(self.next).gate_id}\\n'\n",
    "        if self.prev:\n",
    "            str_output += f'Prev Gate: {(self.prev).gate_id}\\n'\n",
    "\n",
    "        return str_output"
   ]
  },
  {
   "cell_type": "code",
   "execution_count": 52,
   "metadata": {},
   "outputs": [
    {
     "name": "stdout",
     "output_type": "stream",
     "text": [
      "Gate ID: 1\n",
      "Lock Status: False\n",
      "\n",
      "Gate ID: 2\n",
      "Lock Status: False\n",
      "Prev Gate: 1\n",
      "\n",
      "Gate ID: 3\n",
      "Lock Status: False\n",
      "Prev Gate: 2\n",
      "\n",
      "Gate ID: 3\n",
      "Lock Status: False\n",
      "Prev Gate: 2\n",
      "\n"
     ]
    }
   ],
   "source": [
    "gate1 = gate_dlinkedList(1)\n",
    "gate2 = gate_dlinkedList(2)\n",
    "gate3 = gate_dlinkedList(3)\n",
    "# print(str(gate1))\n",
    "print(str(gate1))\n",
    "curr_gate = gate1.set_next(gate2)\n",
    "\n",
    "print(str(curr_gate))\n",
    "last_gate = gate2.set_next(gate3)\n",
    "# print(str(gate1))\n",
    "print(str(last_gate))\n",
    "\n",
    "print(gate3)"
   ]
  },
  {
   "cell_type": "code",
   "execution_count": 53,
   "metadata": {},
   "outputs": [],
   "source": [
    "import os\n",
    "\n",
    "class readFile:\n",
    "    def __init__(self):\n",
    "        self.circuit_data = None\n",
    "        \n",
    "    def read_circuit(self, circuit_folder_path):\n",
    "        netD_file = None\n",
    "        are_file = None\n",
    "        for file in os.listdir(circuit_folder_path):\n",
    "            if file.endswith('.netD'):\n",
    "                netD_file = os.path.join(circuit_folder_path, file)\n",
    "            if file.endswith('.are'):\n",
    "                are_file = os.path.join(circuit_folder_path, file)\n",
    "        if netD_file and are_file:\n",
    "            self.circuit_data = self.parse_net_files(netD_file, are_file)\n",
    "            return self.circuit_data\n",
    "        else:\n",
    "            print(\"Error Message: Missing Files\")\n",
    "            return None\n",
    "\n",
    "    def parse_net_files(self, netD_file, are_file):\n",
    "        # network information\n",
    "        nets, connections, nodes, modules, pad_offset = self.read_netD_file(netD_file)\n",
    "        # module areas\n",
    "        areas = self.read_are_file(are_file)\n",
    "        # network information with pin directions\n",
    "\n",
    "        self.circuit_data = {\n",
    "            'areas': areas,\n",
    "            'netD_nets': nets,\n",
    "            'connections': int(connections),\n",
    "            'nodes': int(nodes),\n",
    "            'modules': int(modules),\n",
    "            'pad_offset': int(pad_offset)\n",
    "        }\n",
    "        return self.circuit_data\n",
    "    \n",
    "    ## remove unused .net file\n",
    "    # def read_net_file(self, circuit_folder_path):\n",
    "    #     with open(circuit_folder_path, 'r') as file:\n",
    "    #         lines = file.readlines()\n",
    "    #     self.circuit_info = tuple(item.replace('\\n', '') for item in lines[0:5])\n",
    "    #     _, connections, nodes, modules, pad_offset = self.circuit_info\n",
    "    #     lines = lines[5:]\n",
    "    #     nets = {}\n",
    "    #     current_key = None\n",
    "    #     for line in lines:\n",
    "    #         tokens = line.split()\n",
    "    #         if tokens[1] == 's':\n",
    "    #             current_key = tokens[0]\n",
    "    #             nets[current_key] = []\n",
    "    #         elif tokens[1] == 'l':\n",
    "    #             nets[current_key].append(tokens[0])\n",
    "    #     return nets, connections, nodes, modules, pad_offset\n",
    "\n",
    "    def read_are_file(self, circuit_folder_path):\n",
    "        with open(circuit_folder_path, 'r') as file:\n",
    "            lines = file.readlines()\n",
    "        module_areas = {}\n",
    "        for line in lines:\n",
    "            module_id, area = line.split()\n",
    "            module_areas[module_id] = int(area)\n",
    "        return module_areas\n",
    "\n",
    "    def read_netD_file(self, circuit_folder_path):\n",
    "        with open(circuit_folder_path, 'r') as file:\n",
    "            lines = file.readlines()\n",
    "        self.circuit_info = tuple(item.replace('\\n', '') for item in lines[0:5])\n",
    "        _, connections, nodes, modules, pad_offset = self.circuit_info\n",
    "        lines = lines[5:]\n",
    "        nets = {}\n",
    "        current_key = None\n",
    "        for line in lines:\n",
    "            tokens = line.split()\n",
    "            if tokens[1] == 's':\n",
    "                current_key = tokens[0]\n",
    "                nets[current_key] = []\n",
    "            elif tokens[1] == 'l':\n",
    "            ## update from here\n",
    "                if current_key is not None:  # Check if a valid key is assigned\n",
    "                    nets[current_key].append(tokens[0])\n",
    "        # Ensure all keys have an entry in the dictionary\n",
    "        for token in lines:\n",
    "            if token.startswith('p') and token.split()[1] != 's':\n",
    "                nets[token.split()[0]] = []\n",
    "        return nets, connections, nodes, modules, pad_offset"
   ]
  },
  {
   "cell_type": "code",
   "execution_count": 54,
   "metadata": {},
   "outputs": [],
   "source": [
    "class FM_algo:\n",
    "    def __init__(self, circuit_folder_path):\n",
    "        self.circuit_data = readFile().read_circuit(circuit_folder_path)\n",
    "        self.circuit_connections = self.circuit_data['netD_nets']\n",
    "        self.bucket_gains1 = dict()\n",
    "        self.bucket_gains2 = dict()\n",
    "        self.vertex = dict()\n",
    "        self.fd_algo()\n",
    "        \n",
    "    def fd_algo(self):\n",
    "        #partition circuit\n",
    "        self.partition1, self.partition2 = self.partition_circuit()\n",
    "        #initialize buckets\n",
    "        self.bucket_gains1 = self.initialize_buckets(self.partition1, self.bucket_gains1)\n",
    "        self.bucket_gains2 = self.initialize_buckets(self.partition2, self.bucket_gains2)\n",
    "\n",
    "        ##TODO: Begin Fiduccia-Mattheyses Algorithm below\n",
    "              \n",
    "    def partition_circuit(self):\n",
    "        circuit_nodes = list(self.circuit_connections.keys())\n",
    "        random.shuffle(circuit_nodes)\n",
    "        partition = len(circuit_nodes) // 2\n",
    "\n",
    "        partition1 = circuit_nodes[:partition]\n",
    "        partition2 = circuit_nodes[partition:] \n",
    "        return partition1, partition2\n",
    "    \n",
    "    def calculate_gain(self, gate):\n",
    "        external_sum = 0\n",
    "        internal_sum = 0\n",
    "        if gate in self.partition1:\n",
    "            current_partition = self.partition1\n",
    "        else:\n",
    "            current_partition = self.partition2\n",
    "\n",
    "        for next_gate in self.circuit_connections[gate]:\n",
    "            if next_gate in current_partition:\n",
    "                internal_sum += 1\n",
    "            else:\n",
    "                external_sum += 1\n",
    "        gain = external_sum - internal_sum\n",
    "        return gain\n",
    "        \n",
    "    def initialize_buckets(self, partition, bucket):\n",
    "        for gate in partition:\n",
    "            gain = self.calculate_gain(gate)\n",
    "            current_gate = gate_dlinkedList(gate)\n",
    "            if gain not in list(bucket.keys()):\n",
    "                bucket[gain] = current_gate #gate must be doubly linked list OOC\n",
    "            else:\n",
    "                bucket[gain] = bucket[gain].set_next(current_gate)\n",
    "            #add gate node to vertex bucket for lookup\n",
    "            self.vertex[gate] = bucket[gain]\n",
    "        return bucket\n",
    "\n"
   ]
  },
  {
   "cell_type": "code",
   "execution_count": 55,
   "metadata": {},
   "outputs": [
    {
     "name": "stdout",
     "output_type": "stream",
     "text": [
      "left partition gains {0: <__main__.gate_dlinkedList object at 0x00000257AD66C220>, 2: <__main__.gate_dlinkedList object at 0x00000257AD611A90>}\n",
      "right partition gains {0: <__main__.gate_dlinkedList object at 0x00000257AF1171C0>, 1: <__main__.gate_dlinkedList object at 0x00000257AF117AC0>, 2: <__main__.gate_dlinkedList object at 0x00000257AF1178B0>, -1: <__main__.gate_dlinkedList object at 0x00000257AF117A30>}\n",
      "vertex {'p2': <__main__.gate_dlinkedList object at 0x00000257AD66C220>, 'a1': <__main__.gate_dlinkedList object at 0x00000257AD32F160>, 'a0': <__main__.gate_dlinkedList object at 0x00000257AD611A90>, 'p3': <__main__.gate_dlinkedList object at 0x00000257AF1171C0>, 'a2': <__main__.gate_dlinkedList object at 0x00000257AF117AC0>, 'p1': <__main__.gate_dlinkedList object at 0x00000257AF1178B0>, 'a3': <__main__.gate_dlinkedList object at 0x00000257AF117A30>}\n"
     ]
    }
   ],
   "source": [
    "circuit_folder_path = \"test_simple\"\n",
    "fm = FM_algo(circuit_folder_path)\n",
    "\n",
    "print('left partition gains', fm.bucket_gains1)\n",
    "print('right partition gains', fm.bucket_gains2)\n",
    "print('vertex', fm.vertex)"
   ]
  },
  {
   "cell_type": "code",
   "execution_count": 56,
   "metadata": {},
   "outputs": [
    {
     "name": "stdout",
     "output_type": "stream",
     "text": [
      "{'p1': ['a0', 'a1'], 'a0': ['a2', 'a3'], 'a1': ['a2', 'a3'], 'a2': ['p2'], 'a3': ['p3'], 'p2': [], 'p3': []}\n"
     ]
    }
   ],
   "source": [
    "#### TEST FUNCTION ####\n",
    "#### inputs from https://vlsicad.ucsd.edu/UCLAWeb/cheese/ispd98.html#Benchmark%20File%20Format ####\n",
    "#### example with 4 cells, 3 pads, 5 nets and 13 pins ####\n",
    "circuit_folder_path = \"test_simple\"\n",
    "fm = FM_algo(circuit_folder_path)\n",
    "print(fm.circuit_data['netD_nets'])\n"
   ]
  },
  {
   "cell_type": "code",
   "execution_count": 57,
   "metadata": {},
   "outputs": [
    {
     "data": {
      "text/plain": [
       "{'p1': ['a0', 'a1'],\n",
       " 'a0': ['a2', 'a3'],\n",
       " 'a1': ['a2', 'a3'],\n",
       " 'a2': ['p2'],\n",
       " 'a3': ['p3'],\n",
       " 'p2': [],\n",
       " 'p3': []}"
      ]
     },
     "execution_count": 57,
     "metadata": {},
     "output_type": "execute_result"
    }
   ],
   "source": [
    "fm.circuit_data['netD_nets']"
   ]
  },
  {
   "cell_type": "code",
   "execution_count": 58,
   "metadata": {},
   "outputs": [
    {
     "data": {
      "text/plain": [
       "{'a0': 1, 'a1': 3, 'a2': 4, 'a3': 2, 'p1': 0, 'p2': 0, 'p3': 0}"
      ]
     },
     "execution_count": 58,
     "metadata": {},
     "output_type": "execute_result"
    }
   ],
   "source": [
    "fm.circuit_data['areas']"
   ]
  },
  {
   "cell_type": "code",
   "execution_count": 59,
   "metadata": {},
   "outputs": [],
   "source": [
    "def main():\n",
    "    pass\n",
    "\n",
    "if __name__ == \"__main__\":\n",
    "    main()"
   ]
  },
  {
   "cell_type": "code",
   "execution_count": 60,
   "metadata": {},
   "outputs": [
    {
     "name": "stdout",
     "output_type": "stream",
     "text": [
      "{'a0': 1, 'a1': 3, 'a2': 4, 'a3': 2, 'p1': 0, 'p2': 0, 'p3': 0}\n",
      "{'p1': ['a0', 'a1'], 'a0': ['a2', 'a3'], 'a1': ['a2', 'a3'], 'a2': ['p2'], 'a3': ['p3'], 'p2': [], 'p3': []}\n"
     ]
    }
   ],
   "source": [
    "print(fm.circuit_data['areas'])\n",
    "print(fm.circuit_data['netD_nets'])\n"
   ]
  }
 ],
 "metadata": {
  "kernelspec": {
   "display_name": "sbu",
   "language": "python",
   "name": "python3"
  },
  "language_info": {
   "codemirror_mode": {
    "name": "ipython",
    "version": 3
   },
   "file_extension": ".py",
   "mimetype": "text/x-python",
   "name": "python",
   "nbconvert_exporter": "python",
   "pygments_lexer": "ipython3",
   "version": "3.9.16"
  }
 },
 "nbformat": 4,
 "nbformat_minor": 2
}
