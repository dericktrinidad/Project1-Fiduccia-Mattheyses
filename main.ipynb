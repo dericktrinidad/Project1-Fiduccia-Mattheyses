{
 "cells": [
  {
   "cell_type": "code",
   "execution_count": 3,
   "metadata": {},
   "outputs": [],
   "source": [
    "import os\n",
    "import random"
   ]
  },
  {
   "cell_type": "code",
   "execution_count": 4,
   "metadata": {},
   "outputs": [],
   "source": [
    "class gate_dlinkedList:\n",
    "    def __init__(self, gate_id):\n",
    "        self.gate_id = gate_id\n",
    "        self.lock = False\n",
    "        self.next = None\n",
    "        self.prev = None\n",
    "    \n",
    "    def set_next(self, next_gate):\n",
    "        self.next = next_gate\n",
    "        if next_gate:\n",
    "            next_gate.prev = self\n",
    "        return self.next\n",
    "    \n",
    "    def remove_gate(self):\n",
    "        if self.prev:\n",
    "            self.prev.next = self.next\n",
    "        if self.next:\n",
    "            self.next.prev = self.prev\n",
    "        self.next = None\n",
    "        self.prev = None\n",
    "\n",
    "    def __str__(self):\n",
    "        str_output = f'Gate ID: {self.gate_id}\\n'\n",
    "        str_output += f'Lock Status: {self.gate_id}\\n'\n",
    "        if self.next:\n",
    "            str_output += f'Next Gate: {(self.next).gate_id}\\n'\n",
    "        if self.prev:\n",
    "            str_output += f'Prev Gate: {(self.prev).gate_id}\\n'\n",
    "\n",
    "        return str_output"
   ]
  },
  {
   "cell_type": "code",
   "execution_count": 5,
   "metadata": {},
   "outputs": [
    {
     "name": "stdout",
     "output_type": "stream",
     "text": [
      "Gate ID: 1\n",
      "Lock Status: 1\n",
      "\n",
      "Gate ID: 2\n",
      "Lock Status: 2\n",
      "Prev Gate: 1\n",
      "\n",
      "Gate ID: 3\n",
      "Lock Status: 3\n",
      "Prev Gate: 2\n",
      "\n",
      "Gate ID: 3\n",
      "Lock Status: 3\n",
      "Prev Gate: 2\n",
      "\n"
     ]
    }
   ],
   "source": [
    "gate1 = gate_dlinkedList(1)\n",
    "gate2 = gate_dlinkedList(2)\n",
    "gate3 = gate_dlinkedList(3)\n",
    "# print(str(gate1))\n",
    "print(str(gate1))\n",
    "curr_gate = gate1.set_next(gate2)\n",
    "\n",
    "print(str(curr_gate))\n",
    "last_gate = gate2.set_next(gate3)\n",
    "# print(str(gate1))\n",
    "print(str(last_gate))\n",
    "\n",
    "print(gate3)"
   ]
  },
  {
   "cell_type": "code",
   "execution_count": 6,
   "metadata": {},
   "outputs": [],
   "source": [
    "class FM_algo:\n",
    "    def __init__(self, circuit_folder_path):\n",
    "        self.circuit_info = self.read_circuit(circuit_folder_path)\n",
    "        self.circuit_connections = self.circuit_info['netD_nets']\n",
    "        self.bucket_gains1 = dict()\n",
    "        self.bucket_gains2 = dict()\n",
    "        self.vertex = dict()\n",
    "        self.fd_algo()\n",
    "\n",
    "    def fd_algo(self):\n",
    "        #partition circuit\n",
    "        self.partition1, self.partition2 = self.partition_circuit()\n",
    "        #initialize buckets\n",
    "        self.bucket_gains1 = self.initialize_buckets(self.partition1, self.bucket_gains1)\n",
    "        self.bucket_gains2 = self.initialize_buckets(self.partition2, self.bucket_gains2)\n",
    "\n",
    "        ##TODO: Begin Fiduccia-Mattheyses Algorithm below\n",
    "        pass\n",
    "   \n",
    "    def partition_circuit(self):\n",
    "        circuit_nodes = list(self.circuit_connections.keys())\n",
    "        random.shuffle(circuit_nodes)\n",
    "        partition = len(circuit_nodes) // 2\n",
    "\n",
    "        partition1 = circuit_nodes[:partition]\n",
    "        partition2 = circuit_nodes[partition:] \n",
    "        return partition1, partition2\n",
    "    \n",
    "    def calculate_gain(self, gate):\n",
    "        external_sum = 0\n",
    "        internal_sum = 0\n",
    "        if gate in self.partition1:\n",
    "            current_partition = self.partition1\n",
    "        else:\n",
    "            current_partition = self.partition2\n",
    "\n",
    "        for next_gate in self.circuit_connections[gate]:\n",
    "            if next_gate in current_partition:\n",
    "                internal_sum += 1\n",
    "            else:\n",
    "                external_sum += 1\n",
    "        gain = external_sum - internal_sum\n",
    "        return gain\n",
    "        \n",
    "    def initialize_buckets(self, partition, bucket):\n",
    "        for gate in partition:\n",
    "            gain = self.calculate_gain(gate)\n",
    "            current_gate = gate_dlinkedList(gate)\n",
    "            if gain not in list(bucket.keys()):\n",
    "                bucket[gain] = current_gate #gate must be doubly linked list OOC\n",
    "            else:\n",
    "                bucket[gain] = bucket[gain].set_next(current_gate)\n",
    "            #add gate node to vertex bucket for lookup\n",
    "            self.vertex[gate] = bucket[gain]\n",
    "        return bucket\n",
    "\n",
    "    def read_circuit(self, circuit_folder_path):\n",
    "        net_file = None\n",
    "        netD_file = None\n",
    "        are_file = None\n",
    "        for file in os.listdir(circuit_folder_path):\n",
    "            if file.endswith('.net'):\n",
    "                net_file = os.path.join(circuit_folder_path, file)\n",
    "            if file.endswith('.netD'):\n",
    "               netD_file = os.path.join(circuit_folder_path ,file)\n",
    "            if file.endswith('.are'):\n",
    "               are_file = os.path.join(circuit_folder_path, file)\n",
    "    \n",
    "\n",
    "    ## UPDATE 2/21 01:00 JIMMY\n",
    "        if net_file and netD_file and are_file:\n",
    "            self.circuit_data = self.parse_net_files(net_file, netD_file, are_file)\n",
    "            return self.circuit_data\n",
    "        else:\n",
    "            print(\"Error Message: Missing Files\")\n",
    "\n",
    "    def parse_net_files(self, net_file, netD_file, are_file):\n",
    "        # network information\n",
    "        nets, connections, nodes, modules, pad_offset = self.read_net_file(net_file)\n",
    "        # module areas\n",
    "        areas = self.read_are_file(are_file)\n",
    "        # network information with pin directions\n",
    "        netD_nets = self.read_netD_file(netD_file)\n",
    "\n",
    "        circuit_data = {\n",
    "            'nets': nets,\n",
    "            'areas': areas,\n",
    "            'netD_nets': netD_nets,\n",
    "            'connections': int(connections),\n",
    "            'nodes': int(nodes),\n",
    "            'modules': int(modules),\n",
    "            'pad_offset': int(pad_offset)\n",
    "        }\n",
    "        return circuit_data\n",
    "    \n",
    "    def read_net_file(self, circuit_folder_path):\n",
    "        with open(circuit_folder_path, 'r') as file:\n",
    "            lines = file.readlines()\n",
    "        circuit_info = tuple(item.replace('\\n', '') for item in lines[0:5])\n",
    "        #Ex: ('0', '13', '5', '7', '3')\n",
    "        _, connections, nodes, modules, pad_offset  = circuit_info\n",
    "\n",
    "        lines = lines[5:]\n",
    "        net = {}\n",
    "        current_key = None\n",
    "        for line in lines:\n",
    "            tokens = line.split()\n",
    "            if tokens[1] == 's':\n",
    "                current_key = tokens[0]\n",
    "                net[current_key] = []\n",
    "            elif tokens[1] == 'l':\n",
    "                net[current_key].append(tokens[0])\n",
    "    \n",
    "        return net, connections, nodes, modules, pad_offset\n",
    "\n",
    "\n",
    "    def read_are_file(self, circuit_folder_path):\n",
    "        with open(circuit_folder_path, 'r') as file:\n",
    "            lines = file.readlines()\n",
    "        module_areas = {}\n",
    "        for line in lines:\n",
    "            module_id, area = line.split()\n",
    "            module_areas[module_id] = int(area)\n",
    "        return module_areas\n",
    "\n",
    "    def read_netD_file(self, circuit_folder_path):\n",
    "        with open(circuit_folder_path, 'r') as file:\n",
    "            lines = file.readlines()\n",
    "\n",
    "        lines = lines[5:]\n",
    "        nets = {}\n",
    "        current_key = None\n",
    "        for line in lines:\n",
    "            tokens = line.split()\n",
    "            if tokens[1] == 's':\n",
    "                current_key = tokens[0]\n",
    "                nets[current_key] = []\n",
    "            elif tokens[1] == 'l':\n",
    "                nets[current_key].append(tokens[0])\n",
    "        return nets\n",
    "\n",
    "        ## bi-directional\n",
    "        # bi_direct = {}\n",
    "        # for line in lines:\n",
    "        #     tokens = line.split()\n",
    "        #     if tokens[1] == 's':\n",
    "        #         current_key = tokens[0]\n",
    "        #         nets[current_key] = []\n",
    "        #     elif tokens[1] == 'l':\n",
    "        #         if tokens[2] == 'B':\n",
    "        #             if current_key not in bi_direct:\n",
    "        #                 bi_direct[current_key] = [tokens[0]]\n",
    "        #             else:\n",
    "        #                 bi_direct[current_key].append(tokens[0])\n",
    "        #         else:\n",
    "        #             nets[current_key].append(tokens[0])\n",
    "\n",
    "        # for key, values in bi_direct.items():\n",
    "        #     if key in nets:\n",
    "        #         nets[key].extend(values)\n",
    "        #     else:\n",
    "        #         nets[key] = values\n",
    "\n",
    "        # for key, values in bi_direct.items():\n",
    "        #     for value in values:\n",
    "        #         if value in nets:\n",
    "        #             nets[value].append(key)\n",
    "        #         else:\n",
    "        #             nets[value] = [key]\n",
    "\n",
    "        # return nets                "
   ]
  },
  {
   "cell_type": "code",
   "execution_count": 7,
   "metadata": {},
   "outputs": [
    {
     "name": "stdout",
     "output_type": "stream",
     "text": [
      "left partition gains {2: <__main__.gate_dlinkedList object at 0x000002067C2350D0>, 1: <__main__.gate_dlinkedList object at 0x000002067C235340>}\n",
      "right partition gains {1: <__main__.gate_dlinkedList object at 0x000002067C35D8B0>, 2: <__main__.gate_dlinkedList object at 0x000002067C35DEE0>}\n",
      "vertex {'a0': <__main__.gate_dlinkedList object at 0x000002067C15F8E0>, 'a4': <__main__.gate_dlinkedList object at 0x000002067C235340>, 'a1': <__main__.gate_dlinkedList object at 0x000002067C2350D0>, 'a3': <__main__.gate_dlinkedList object at 0x000002067C35D9D0>, 'p1': <__main__.gate_dlinkedList object at 0x000002067C35DEE0>, 'a2': <__main__.gate_dlinkedList object at 0x000002067C35D8B0>}\n"
     ]
    }
   ],
   "source": [
    "circuit_folder_path = \"test_simple\"\n",
    "fm = FM_algo(circuit_folder_path)\n",
    "\n",
    "print('left partition gains', fm.bucket_gains1)\n",
    "print('right partition gains', fm.bucket_gains2)\n",
    "print('vertex', fm.vertex)"
   ]
  },
  {
   "cell_type": "code",
   "execution_count": 8,
   "metadata": {},
   "outputs": [
    {
     "name": "stdout",
     "output_type": "stream",
     "text": [
      "{'nets': {'p1': ['a0', 'a1'], 'a0': ['a2', 'a3'], 'a1': ['a2', 'a3'], 'a2': ['p2'], 'a3': ['p3']}, 'areas': {'a0': 1, 'a1': 3, 'a2': 4, 'a3': 2, 'p1': 0, 'p2': 0, 'p3': 0}, 'netD_nets': {'p1': ['a0', 'a1'], 'a0': ['a2', 'a3'], 'a1': ['a2', 'a3'], 'a2': ['p2'], 'a3': ['p3'], 'a4': ['p4']}, 'connections': 13, 'nodes': 5, 'modules': 7, 'pad_offset': 3}\n"
     ]
    }
   ],
   "source": [
    "#### TEST FUNCTION ####\n",
    "#### inputs from https://vlsicad.ucsd.edu/UCLAWeb/cheese/ispd98.html#Benchmark%20File%20Format ####\n",
    "#### example with 4 cells, 3 pads, 5 nets and 13 pins ####\n",
    "circuit_folder_path = \"test_simple\"\n",
    "fm = FM_algo(circuit_folder_path)\n",
    "circuit_data = fm.read_circuit(circuit_folder_path)\n",
    "print(circuit_data)\n"
   ]
  },
  {
   "cell_type": "code",
   "execution_count": 9,
   "metadata": {},
   "outputs": [
    {
     "data": {
      "text/plain": [
       "{'p1': ['a0', 'a1'],\n",
       " 'a0': ['a2', 'a3'],\n",
       " 'a1': ['a2', 'a3'],\n",
       " 'a2': ['p2'],\n",
       " 'a3': ['p3'],\n",
       " 'a4': ['p4']}"
      ]
     },
     "execution_count": 9,
     "metadata": {},
     "output_type": "execute_result"
    }
   ],
   "source": [
    "circuit_data['netD_nets']"
   ]
  },
  {
   "cell_type": "code",
   "execution_count": 10,
   "metadata": {},
   "outputs": [
    {
     "data": {
      "text/plain": [
       "{'p1': ['a0', 'a1'],\n",
       " 'a0': ['a2', 'a3'],\n",
       " 'a1': ['a2', 'a3'],\n",
       " 'a2': ['p2'],\n",
       " 'a3': ['p3']}"
      ]
     },
     "execution_count": 10,
     "metadata": {},
     "output_type": "execute_result"
    }
   ],
   "source": [
    "circuit_data['nets']"
   ]
  },
  {
   "cell_type": "code",
   "execution_count": 11,
   "metadata": {},
   "outputs": [
    {
     "data": {
      "text/plain": [
       "{'a0': 1, 'a1': 3, 'a2': 4, 'a3': 2, 'p1': 0, 'p2': 0, 'p3': 0}"
      ]
     },
     "execution_count": 11,
     "metadata": {},
     "output_type": "execute_result"
    }
   ],
   "source": [
    "circuit_data['areas']"
   ]
  },
  {
   "cell_type": "code",
   "execution_count": 12,
   "metadata": {},
   "outputs": [],
   "source": [
    "def main():\n",
    "    pass\n",
    "\n",
    "if __name__ == \"__main__\":\n",
    "    main()"
   ]
  },
  {
   "cell_type": "code",
   "execution_count": 13,
   "metadata": {},
   "outputs": [
    {
     "name": "stdout",
     "output_type": "stream",
     "text": [
      "{'a0': 1, 'a1': 3, 'a2': 4, 'a3': 2, 'p1': 0, 'p2': 0, 'p3': 0}\n",
      "{'p1': ['a0', 'a1'], 'a0': ['a2', 'a3'], 'a1': ['a2', 'a3'], 'a2': ['p2'], 'a3': ['p3'], 'a4': ['p4']}\n",
      "{'p1': ['a0', 'a1'], 'a0': ['a2', 'a3'], 'a1': ['a2', 'a3'], 'a2': ['p2'], 'a3': ['p3']}\n"
     ]
    }
   ],
   "source": [
    "print(circuit_data['areas'])\n",
    "print(circuit_data['netD_nets'])\n",
    "print(circuit_data['nets'])"
   ]
  }
 ],
 "metadata": {
  "kernelspec": {
   "display_name": "sbu",
   "language": "python",
   "name": "python3"
  },
  "language_info": {
   "codemirror_mode": {
    "name": "ipython",
    "version": 3
   },
   "file_extension": ".py",
   "mimetype": "text/x-python",
   "name": "python",
   "nbconvert_exporter": "python",
   "pygments_lexer": "ipython3",
   "version": "3.9.16"
  }
 },
 "nbformat": 4,
 "nbformat_minor": 2
}
