{
 "cells": [
  {
   "cell_type": "code",
   "execution_count": 1,
   "metadata": {},
   "outputs": [],
   "source": [
    "import os"
   ]
  },
  {
   "cell_type": "code",
   "execution_count": 2,
   "metadata": {},
   "outputs": [],
   "source": [
    "class gate_dlinkedList:\n",
    "    def __init__(self, gate_id):\n",
    "        self.gate_id = gate_id\n",
    "        self.lock = False\n",
    "        self.next = None\n",
    "        self.prev = None\n",
    "        self.gain = None\n",
    "    \n",
    "    def calculate_gain(self, current_gate):\n",
    "        prev_count= 0\n",
    "        while(current_gate.prev):\n",
    "            prev_count += 1\n",
    "        next_count = 0\n",
    "        while(current_gate.next):\n",
    "            next_count += 1\n",
    "        self.gain = prev_count - next_count\n",
    "    \n",
    "    def set_next(self, next_gate):\n",
    "        self.next = next_gate\n",
    "        if next_gate:\n",
    "            next_gate.prev = self\n",
    "\n",
    "    def set_prev(self, prev_gate):\n",
    "        self.prev = prev_gate\n",
    "        if prev_gate:\n",
    "            prev_gate.next = self"
   ]
  },
  {
   "cell_type": "code",
   "execution_count": 3,
   "metadata": {},
   "outputs": [
    {
     "name": "stdout",
     "output_type": "stream",
     "text": [
      "1\n"
     ]
    }
   ],
   "source": [
    "gate1 = gate_dlinkedList(1)\n",
    "gate2 = gate_dlinkedList(2)\n",
    "gate3 = gate_dlinkedList(3)\n",
    "gate4 = gate_dlinkedList(4)\n",
    "gate5 = gate_dlinkedList(5)\n",
    "gate6 = gate_dlinkedList(6)\n",
    "\n",
    "print(gate1.gate_id)\n"
   ]
  },
  {
   "cell_type": "code",
   "execution_count": 6,
   "metadata": {},
   "outputs": [],
   "source": [
    "class FM_algo:\n",
    "    def __init__(self ):\n",
    "        self.circuit_data = None\n",
    "        self.vertex = None\n",
    "        self.best_gain = None\n",
    "    def read_circuit(self, circuit_folder_path):\n",
    "        net_file = None\n",
    "        netD_file = None\n",
    "        are_file = None\n",
    "        for file in os.listdir(circuit_folder_path):\n",
    "            if file.endswith('.net'):\n",
    "                net_file = os.path.join(circuit_folder_path, file)\n",
    "            if file.endswith('.netD'):\n",
    "               netD_file = os.path.join(circuit_folder_path ,file)\n",
    "            if file.endswith('.are'):\n",
    "               are_file = os.path.join(circuit_folder_path, file)\n",
    "                    \n",
    "    ## UPDATE 2/21 01:00 JIMMY\n",
    "        if net_file and netD_file and are_file:\n",
    "            self.circuit_data = self.parse_net_files(net_file, netD_file, are_file)\n",
    "            return self.circuit_data\n",
    "        else:\n",
    "            print(\"Error Message: Missing Files\")\n",
    "\n",
    "    def parse_net_files(self, net_file, netD_file, are_file):\n",
    "        # network information\n",
    "        nets, connections, nodes, modules, pad_offset = self.read_net_file(net_file)\n",
    "        # module areas\n",
    "        areas = self.read_are_file(are_file)\n",
    "        # network information with pin directions\n",
    "        netD_nets = self.read_netD_file(netD_file)\n",
    "        circuit_data = {\n",
    "            'nets': nets,\n",
    "            'areas': areas,\n",
    "            'netD_nets': netD_nets,\n",
    "            'connections': int(connections),\n",
    "            'nodes': int(nodes),\n",
    "            'modules': int(modules),\n",
    "            'pad_offset': int(pad_offset)\n",
    "        }\n",
    "        return circuit_data\n",
    "    \n",
    "    def read_net_file(self, circuit_folder_path):\n",
    "        with open(circuit_folder_path, 'r') as file:\n",
    "            lines = file.readlines()\n",
    "        circuit_info = tuple(item.replace('\\n', '') for item in lines[0:5])\n",
    "        #Ex: ('0', '13', '5', '7', '3')\n",
    "        _, connections, nodes, modules, pad_offset  = circuit_info\n",
    "\n",
    "        lines = lines[5:]\n",
    "        net = {}\n",
    "        current_key = None\n",
    "        for line in lines:\n",
    "            tokens = line.split()\n",
    "            if tokens[1] == 's':\n",
    "                current_key = tokens[0]\n",
    "                net[current_key] = []\n",
    "            elif tokens[1] == 'l':\n",
    "                net[current_key].append(tokens[0])\n",
    "    \n",
    "        return net, connections, nodes, modules, pad_offset\n",
    "\n",
    "\n",
    "    def read_are_file(self, circuit_folder_path):\n",
    "        with open(circuit_folder_path, 'r') as file:\n",
    "            lines = file.readlines()\n",
    "        module_areas = {}\n",
    "        for line in lines:\n",
    "            module_id, area = line.split()\n",
    "            module_areas[module_id] = int(area)\n",
    "        return module_areas\n",
    "\n",
    "    def read_netD_file(self, circuit_folder_path):\n",
    "        with open(circuit_folder_path, 'r') as file:\n",
    "            lines = file.readlines()\n",
    "        nets = []\n",
    "        current_net = []\n",
    "        for line in lines:\n",
    "            if line.startswith('p') or line.startswith('a'):\n",
    "                module_type, module_id, pin_direction = line.split()\n",
    "                current_net.append((module_type, module_id, pin_direction))\n",
    "            elif line.startswith('s'):\n",
    "                if current_net:\n",
    "                    nets.append(current_net)\n",
    "                    current_net = []\n",
    "        if current_net:\n",
    "            nets.append(current_net)\n",
    "        return nets\n",
    "\n",
    "\n"
   ]
  },
  {
   "cell_type": "code",
   "execution_count": 7,
   "metadata": {},
   "outputs": [
    {
     "name": "stdout",
     "output_type": "stream",
     "text": [
      "{'nets': {'p1': ['a0', 'a1'], 'a0': ['a2', 'a3'], 'a1': ['a2', 'a3'], 'a2': ['p2'], 'a3': ['p3']}, 'areas': {'a0': 1, 'a1': 3, 'a2': 4, 'a3': 2, 'p1': 0, 'p2': 0, 'p3': 0}, 'netD_nets': [[('p1', 's', 'O'), ('a0', 'l', 'I'), ('a1', 'l', 'I'), ('a0', 's', 'O'), ('a2', 'l', 'I'), ('a3', 'l', 'I'), ('a1', 's', 'O'), ('a2', 'l', 'I'), ('a3', 'l', 'I'), ('a2', 's', 'O'), ('p2', 'l', 'I'), ('a3', 's', 'O'), ('p3', 'l', 'I')]], 'connections': 13, 'nodes': 5, 'modules': 7, 'pad_offset': 3}\n"
     ]
    }
   ],
   "source": [
    "#### TEST FUNCTION ####\n",
    "#### inputs from https://vlsicad.ucsd.edu/UCLAWeb/cheese/ispd98.html#Benchmark%20File%20Format ####\n",
    "#### example with 4 cells, 3 pads, 5 nets and 13 pins ####\n",
    "circuit_folder_path = \"test_simple\"\n",
    "fm = FM_algo()\n",
    "circuit_data = fm.read_circuit(circuit_folder_path)\n",
    "print(circuit_data)\n"
   ]
  },
  {
   "cell_type": "code",
   "execution_count": 8,
   "metadata": {},
   "outputs": [
    {
     "data": {
      "text/plain": [
       "{'p1': ['a0', 'a1'],\n",
       " 'a0': ['a2', 'a3'],\n",
       " 'a1': ['a2', 'a3'],\n",
       " 'a2': ['p2'],\n",
       " 'a3': ['p3']}"
      ]
     },
     "execution_count": 8,
     "metadata": {},
     "output_type": "execute_result"
    }
   ],
   "source": [
    "circuit_data['nets']"
   ]
  },
  {
   "cell_type": "code",
   "execution_count": 9,
   "metadata": {},
   "outputs": [
    {
     "data": {
      "text/plain": [
       "{'a0': 1, 'a1': 3, 'a2': 4, 'a3': 2, 'p1': 0, 'p2': 0, 'p3': 0}"
      ]
     },
     "execution_count": 9,
     "metadata": {},
     "output_type": "execute_result"
    }
   ],
   "source": [
    "circuit_data['areas']"
   ]
  },
  {
   "cell_type": "code",
   "execution_count": 11,
   "metadata": {},
   "outputs": [
    {
     "data": {
      "text/plain": [
       "[[('p1', 's', 'O'),\n",
       "  ('a0', 'l', 'I'),\n",
       "  ('a1', 'l', 'I'),\n",
       "  ('a0', 's', 'O'),\n",
       "  ('a2', 'l', 'I'),\n",
       "  ('a3', 'l', 'I'),\n",
       "  ('a1', 's', 'O'),\n",
       "  ('a2', 'l', 'I'),\n",
       "  ('a3', 'l', 'I'),\n",
       "  ('a2', 's', 'O'),\n",
       "  ('p2', 'l', 'I'),\n",
       "  ('a3', 's', 'O'),\n",
       "  ('p3', 'l', 'I')]]"
      ]
     },
     "execution_count": 11,
     "metadata": {},
     "output_type": "execute_result"
    }
   ],
   "source": [
    "circuit_data['netD_nets']"
   ]
  },
  {
   "cell_type": "code",
   "execution_count": null,
   "metadata": {},
   "outputs": [],
   "source": [
    "def main():\n",
    "    pass\n",
    "\n",
    "if __name__ == \"__main__\":\n",
    "    main()"
   ]
  },
  {
   "cell_type": "code",
   "execution_count": null,
   "metadata": {},
   "outputs": [],
   "source": [
    "print(circuit_data['areas'])\n",
    "print(circuit_data['netD_nets'])\n",
    "print(circuit_data['nets'])"
   ]
  }
 ],
 "metadata": {
  "kernelspec": {
   "display_name": "sbu",
   "language": "python",
   "name": "python3"
  },
  "language_info": {
   "codemirror_mode": {
    "name": "ipython",
    "version": 3
   },
   "file_extension": ".py",
   "mimetype": "text/x-python",
   "name": "python",
   "nbconvert_exporter": "python",
   "pygments_lexer": "ipython3",
   "version": "3.11.7"
  }
 },
 "nbformat": 4,
 "nbformat_minor": 2
}
